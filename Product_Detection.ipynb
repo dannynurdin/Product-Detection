{
  "nbformat": 4,
  "nbformat_minor": 0,
  "metadata": {
    "colab": {
      "name": "Product Detection.ipynb",
      "provenance": [],
      "mount_file_id": "1M-ej_xhtSLw1l5zCwO3NHr5UKr0Kd5Zw",
      "authorship_tag": "ABX9TyNn0XhrsFrsvI8vHP4FTN/F",
      "include_colab_link": true
    },
    "kernelspec": {
      "name": "python3",
      "display_name": "Python 3"
    }
  },
  "cells": [
    {
      "cell_type": "markdown",
      "metadata": {
        "id": "view-in-github",
        "colab_type": "text"
      },
      "source": [
        "<a href=\"https://colab.research.google.com/github/dannynurdin/Product-Detection/blob/master/Product_Detection.ipynb\" target=\"_parent\"><img src=\"https://colab.research.google.com/assets/colab-badge.svg\" alt=\"Open In Colab\"/></a>"
      ]
    },
    {
      "cell_type": "code",
      "metadata": {
        "id": "-HJJUwuqZaj_",
        "colab_type": "code",
        "colab": {}
      },
      "source": [
        "import pandas as pd\n",
        "from google.colab import drive\n",
        "#drive.mount('/content/drive')\n",
        "#!unzip \"/content/drive/My Drive/Copy of shopee-product-detection-dataset.zip\""
      ],
      "execution_count": 17,
      "outputs": []
    },
    {
      "cell_type": "code",
      "metadata": {
        "id": "h324KTNKaaQF",
        "colab_type": "code",
        "colab": {
          "base_uri": "https://localhost:8080/",
          "height": 406
        },
        "outputId": "2dd5a051-96c7-483b-ce04-5805ad96bb7f"
      },
      "source": [
        "train_data_test = pd.read_csv('/content/test.csv')\n",
        "train_data_test.head(100)"
      ],
      "execution_count": 18,
      "outputs": [
        {
          "output_type": "execute_result",
          "data": {
            "text/html": [
              "<div>\n",
              "<style scoped>\n",
              "    .dataframe tbody tr th:only-of-type {\n",
              "        vertical-align: middle;\n",
              "    }\n",
              "\n",
              "    .dataframe tbody tr th {\n",
              "        vertical-align: top;\n",
              "    }\n",
              "\n",
              "    .dataframe thead th {\n",
              "        text-align: right;\n",
              "    }\n",
              "</style>\n",
              "<table border=\"1\" class=\"dataframe\">\n",
              "  <thead>\n",
              "    <tr style=\"text-align: right;\">\n",
              "      <th></th>\n",
              "      <th>filename</th>\n",
              "      <th>category</th>\n",
              "    </tr>\n",
              "  </thead>\n",
              "  <tbody>\n",
              "    <tr>\n",
              "      <th>0</th>\n",
              "      <td>fd663cf2b6e1d7b02938c6aaae0a32d2.jpg</td>\n",
              "      <td>43</td>\n",
              "    </tr>\n",
              "    <tr>\n",
              "      <th>1</th>\n",
              "      <td>c7fd77508a8c355eaab0d4e10efd6b15.jpg</td>\n",
              "      <td>43</td>\n",
              "    </tr>\n",
              "    <tr>\n",
              "      <th>2</th>\n",
              "      <td>127f3e6d6e3491b2459812353f33a913.jpg</td>\n",
              "      <td>43</td>\n",
              "    </tr>\n",
              "    <tr>\n",
              "      <th>3</th>\n",
              "      <td>5ca4f2da11eda083064e6c36f37eeb81.jpg</td>\n",
              "      <td>43</td>\n",
              "    </tr>\n",
              "    <tr>\n",
              "      <th>4</th>\n",
              "      <td>46d681a542f2c71be017eef6aae23313.jpg</td>\n",
              "      <td>43</td>\n",
              "    </tr>\n",
              "    <tr>\n",
              "      <th>...</th>\n",
              "      <td>...</td>\n",
              "      <td>...</td>\n",
              "    </tr>\n",
              "    <tr>\n",
              "      <th>95</th>\n",
              "      <td>f2acbf68a75f1b75b45623cf5b7ed74c.jpg</td>\n",
              "      <td>43</td>\n",
              "    </tr>\n",
              "    <tr>\n",
              "      <th>96</th>\n",
              "      <td>a2aa32796b4003909903289b3a0fa98f.jpg</td>\n",
              "      <td>43</td>\n",
              "    </tr>\n",
              "    <tr>\n",
              "      <th>97</th>\n",
              "      <td>fd838f17e9c4930c92f7f4a2d94728a6.jpg</td>\n",
              "      <td>43</td>\n",
              "    </tr>\n",
              "    <tr>\n",
              "      <th>98</th>\n",
              "      <td>1e43d4ef0367af1e540a375ccada07f8.jpg</td>\n",
              "      <td>43</td>\n",
              "    </tr>\n",
              "    <tr>\n",
              "      <th>99</th>\n",
              "      <td>ec19abe27e32731125735dee166b56fa.jpg</td>\n",
              "      <td>43</td>\n",
              "    </tr>\n",
              "  </tbody>\n",
              "</table>\n",
              "<p>100 rows × 2 columns</p>\n",
              "</div>"
            ],
            "text/plain": [
              "                                filename  category\n",
              "0   fd663cf2b6e1d7b02938c6aaae0a32d2.jpg        43\n",
              "1   c7fd77508a8c355eaab0d4e10efd6b15.jpg        43\n",
              "2   127f3e6d6e3491b2459812353f33a913.jpg        43\n",
              "3   5ca4f2da11eda083064e6c36f37eeb81.jpg        43\n",
              "4   46d681a542f2c71be017eef6aae23313.jpg        43\n",
              "..                                   ...       ...\n",
              "95  f2acbf68a75f1b75b45623cf5b7ed74c.jpg        43\n",
              "96  a2aa32796b4003909903289b3a0fa98f.jpg        43\n",
              "97  fd838f17e9c4930c92f7f4a2d94728a6.jpg        43\n",
              "98  1e43d4ef0367af1e540a375ccada07f8.jpg        43\n",
              "99  ec19abe27e32731125735dee166b56fa.jpg        43\n",
              "\n",
              "[100 rows x 2 columns]"
            ]
          },
          "metadata": {
            "tags": []
          },
          "execution_count": 18
        }
      ]
    },
    {
      "cell_type": "code",
      "metadata": {
        "id": "aZw5Dux1igI1",
        "colab_type": "code",
        "colab": {
          "base_uri": "https://localhost:8080/",
          "height": 406
        },
        "outputId": "a129759a-1732-4117-c893-54d71cdafb47"
      },
      "source": [
        "train_data_train = pd.read_csv('/content/train.csv')\n",
        "train_data_train.head(100)"
      ],
      "execution_count": 19,
      "outputs": [
        {
          "output_type": "execute_result",
          "data": {
            "text/html": [
              "<div>\n",
              "<style scoped>\n",
              "    .dataframe tbody tr th:only-of-type {\n",
              "        vertical-align: middle;\n",
              "    }\n",
              "\n",
              "    .dataframe tbody tr th {\n",
              "        vertical-align: top;\n",
              "    }\n",
              "\n",
              "    .dataframe thead th {\n",
              "        text-align: right;\n",
              "    }\n",
              "</style>\n",
              "<table border=\"1\" class=\"dataframe\">\n",
              "  <thead>\n",
              "    <tr style=\"text-align: right;\">\n",
              "      <th></th>\n",
              "      <th>filename</th>\n",
              "      <th>category</th>\n",
              "    </tr>\n",
              "  </thead>\n",
              "  <tbody>\n",
              "    <tr>\n",
              "      <th>0</th>\n",
              "      <td>45e2d0c97f7bdf8cbf3594beb6fdcda0.jpg</td>\n",
              "      <td>3</td>\n",
              "    </tr>\n",
              "    <tr>\n",
              "      <th>1</th>\n",
              "      <td>f74d1a5fc2498bbbfa045c74e3cc333e.jpg</td>\n",
              "      <td>3</td>\n",
              "    </tr>\n",
              "    <tr>\n",
              "      <th>2</th>\n",
              "      <td>f6c172096818c5fab10ecae722840798.jpg</td>\n",
              "      <td>3</td>\n",
              "    </tr>\n",
              "    <tr>\n",
              "      <th>3</th>\n",
              "      <td>251ffd610399ac00fea7709c642676ee.jpg</td>\n",
              "      <td>3</td>\n",
              "    </tr>\n",
              "    <tr>\n",
              "      <th>4</th>\n",
              "      <td>73c7328b8eda399199fdedec6e4badaf.jpg</td>\n",
              "      <td>3</td>\n",
              "    </tr>\n",
              "    <tr>\n",
              "      <th>...</th>\n",
              "      <td>...</td>\n",
              "      <td>...</td>\n",
              "    </tr>\n",
              "    <tr>\n",
              "      <th>95</th>\n",
              "      <td>db682c8ab3122a08f3ee43c7ca90fe5b.jpg</td>\n",
              "      <td>3</td>\n",
              "    </tr>\n",
              "    <tr>\n",
              "      <th>96</th>\n",
              "      <td>3033d9e6f9a8463646fbdd45c1d52f1a.jpg</td>\n",
              "      <td>3</td>\n",
              "    </tr>\n",
              "    <tr>\n",
              "      <th>97</th>\n",
              "      <td>1efaec86a5e69f19a3c26a8fd557b960.jpg</td>\n",
              "      <td>3</td>\n",
              "    </tr>\n",
              "    <tr>\n",
              "      <th>98</th>\n",
              "      <td>abb3d3753b56a606eaf8bf418c02d8d4.jpg</td>\n",
              "      <td>3</td>\n",
              "    </tr>\n",
              "    <tr>\n",
              "      <th>99</th>\n",
              "      <td>e242f674567b4bed3adf839a1884b7c3.jpg</td>\n",
              "      <td>3</td>\n",
              "    </tr>\n",
              "  </tbody>\n",
              "</table>\n",
              "<p>100 rows × 2 columns</p>\n",
              "</div>"
            ],
            "text/plain": [
              "                                filename  category\n",
              "0   45e2d0c97f7bdf8cbf3594beb6fdcda0.jpg         3\n",
              "1   f74d1a5fc2498bbbfa045c74e3cc333e.jpg         3\n",
              "2   f6c172096818c5fab10ecae722840798.jpg         3\n",
              "3   251ffd610399ac00fea7709c642676ee.jpg         3\n",
              "4   73c7328b8eda399199fdedec6e4badaf.jpg         3\n",
              "..                                   ...       ...\n",
              "95  db682c8ab3122a08f3ee43c7ca90fe5b.jpg         3\n",
              "96  3033d9e6f9a8463646fbdd45c1d52f1a.jpg         3\n",
              "97  1efaec86a5e69f19a3c26a8fd557b960.jpg         3\n",
              "98  abb3d3753b56a606eaf8bf418c02d8d4.jpg         3\n",
              "99  e242f674567b4bed3adf839a1884b7c3.jpg         3\n",
              "\n",
              "[100 rows x 2 columns]"
            ]
          },
          "metadata": {
            "tags": []
          },
          "execution_count": 19
        }
      ]
    }
  ]
}