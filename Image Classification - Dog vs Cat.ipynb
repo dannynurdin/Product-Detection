{
  "nbformat": 4,
  "nbformat_minor": 0,
  "metadata": {
    "colab": {
      "name": "Submission 3 MLL.ipynb",
      "provenance": [],
      "collapsed_sections": [
        "vdBUjwaCCA2Q",
        "opS4vEGACJ66",
        "WR-sUCucB2Wh",
        "rEiBcelQBxXX",
        "FfdzboHiBrgn",
        "VRP6Z2g3Alpz",
        "FGbRqyM4BKlL"
      ],
      "authorship_tag": "ABX9TyNG3ggmRe73qnu/jtzvgkbn",
      "include_colab_link": true
    },
    "kernelspec": {
      "name": "python3",
      "display_name": "Python 3"
    },
    "accelerator": "GPU"
  },
  "cells": [
    {
      "cell_type": "markdown",
      "metadata": {
        "id": "view-in-github",
        "colab_type": "text"
      },
      "source": [
        "<a href=\"https://colab.research.google.com/github/dannynurdin/jupyter-notebook-me/blob/master/Image%20Classification%20-%20Dog%20vs%20Cat.ipynb\" target=\"_parent\"><img src=\"https://colab.research.google.com/assets/colab-badge.svg\" alt=\"Open In Colab\"/></a>"
      ]
    },
    {
      "cell_type": "markdown",
      "metadata": {
        "id": "vdBUjwaCCA2Q",
        "colab_type": "text"
      },
      "source": [
        "# **IMPORT DATASET FROM KAGGLE**"
      ]
    },
    {
      "cell_type": "code",
      "metadata": {
        "id": "0Ut-3E_j3cdc",
        "colab_type": "code",
        "colab": {}
      },
      "source": [
        "# !pip install kaggle"
      ],
      "execution_count": 36,
      "outputs": []
    },
    {
      "cell_type": "code",
      "metadata": {
        "id": "YZtmE_cs3w86",
        "colab_type": "code",
        "colab": {}
      },
      "source": [
        "# from google.colab import files\n",
        "# files.upload()"
      ],
      "execution_count": 37,
      "outputs": []
    },
    {
      "cell_type": "code",
      "metadata": {
        "id": "ZFDoCeZ337WV",
        "colab_type": "code",
        "colab": {}
      },
      "source": [
        "# !mkdir -p ~/.kaggle\n",
        "# !cp kaggle.json ~/.kaggle/\n",
        "\n",
        "# !chmod 600 ~/.kaggle/kaggle.json"
      ],
      "execution_count": 38,
      "outputs": []
    },
    {
      "cell_type": "code",
      "metadata": {
        "id": "C8L7PPzi4dGi",
        "colab_type": "code",
        "colab": {
          "base_uri": "https://localhost:8080/",
          "height": 0
        },
        "outputId": "2506a2b0-8179-4172-d7b1-37709beaf59b"
      },
      "source": [
        "!kaggle datasets download -d chetankv/dogs-cats-images"
      ],
      "execution_count": 39,
      "outputs": [
        {
          "output_type": "stream",
          "text": [
            "dogs-cats-images.zip: Skipping, found more recently modified local copy (use --force to force download)\n"
          ],
          "name": "stdout"
        }
      ]
    },
    {
      "cell_type": "code",
      "metadata": {
        "id": "qctoxwxA4kmH",
        "colab_type": "code",
        "colab": {}
      },
      "source": [
        "# from zipfile import ZipFile\n",
        "# file_name = \"dogs-cats-images.zip\"\n",
        "\n",
        "# with ZipFile(file_name, 'r') as zip:\n",
        "#   zip.extractall()\n",
        "#   print(\"Success\")"
      ],
      "execution_count": 40,
      "outputs": []
    },
    {
      "cell_type": "markdown",
      "metadata": {
        "id": "opS4vEGACJ66",
        "colab_type": "text"
      },
      "source": [
        "# **IMPORT LIBRARY**"
      ]
    },
    {
      "cell_type": "code",
      "metadata": {
        "id": "say9FVON5iOf",
        "colab_type": "code",
        "colab": {}
      },
      "source": [
        "import tensorflow as tf\n",
        "from tensorflow.keras.optimizers import RMSprop\n",
        "from tensorflow.keras.preprocessing.image import ImageDataGenerator\n",
        "import numpy as np\n",
        "from google.colab import files\n",
        "from keras.preprocessing import image\n",
        "import matplotlib.pyplot as plt\n",
        "import matplotlib.image as mpimg\n",
        "import matplotlib.pyplot as plt\n",
        "import matplotlib.image as mpimg\n",
        "import os"
      ],
      "execution_count": 41,
      "outputs": []
    },
    {
      "cell_type": "markdown",
      "metadata": {
        "id": "WR-sUCucB2Wh",
        "colab_type": "text"
      },
      "source": [
        "# **IMAGE PRE-PROCESSING**"
      ]
    },
    {
      "cell_type": "code",
      "metadata": {
        "id": "fA_TNRft5RJa",
        "colab_type": "code",
        "colab": {}
      },
      "source": [
        "train_dir = '/content/dog vs cat/dataset/training_set'"
      ],
      "execution_count": 42,
      "outputs": []
    },
    {
      "cell_type": "code",
      "metadata": {
        "id": "QTjNaKmi5cxc",
        "colab_type": "code",
        "colab": {}
      },
      "source": [
        "train_datagen = ImageDataGenerator(\n",
        "                    rescale=1./255,\n",
        "                    rotation_range=90,\n",
        "                    brightness_range=[0.2,1.0],\n",
        "                    zoom_range=[0.5,1.0],\n",
        "                    horizontal_flip=True,\n",
        "                    shear_range = 0.2,\n",
        "                    fill_mode = 'wrap',\n",
        "                    validation_split = 0.2\n",
        ")"
      ],
      "execution_count": 43,
      "outputs": []
    },
    {
      "cell_type": "code",
      "metadata": {
        "id": "XjGvdYIW5n-S",
        "colab_type": "code",
        "colab": {
          "base_uri": "https://localhost:8080/",
          "height": 0
        },
        "outputId": "96af8ee4-5dfc-4508-8aab-143cd914269f"
      },
      "source": [
        "train_generator = train_datagen.flow_from_directory(\n",
        "    train_dir,\n",
        "    target_size=(150, 200),\n",
        "    shuffle = True,\n",
        "    batch_size = 32,\n",
        "    subset = 'training'\n",
        ")\n",
        "\n",
        "val_generator = train_datagen.flow_from_directory(\n",
        "    train_dir,\n",
        "    target_size=(150, 200),\n",
        "    shuffle = True,\n",
        "    batch_size = 32,\n",
        "    subset = 'validation'\n",
        ")"
      ],
      "execution_count": 44,
      "outputs": [
        {
          "output_type": "stream",
          "text": [
            "Found 6400 images belonging to 2 classes.\n",
            "Found 1600 images belonging to 2 classes.\n"
          ],
          "name": "stdout"
        }
      ]
    },
    {
      "cell_type": "markdown",
      "metadata": {
        "id": "rEiBcelQBxXX",
        "colab_type": "text"
      },
      "source": [
        "# **MODEL**"
      ]
    },
    {
      "cell_type": "code",
      "metadata": {
        "id": "Nt1u6gBXFDeb",
        "colab_type": "code",
        "colab": {
          "base_uri": "https://localhost:8080/",
          "height": 0
        },
        "outputId": "48581b0a-b69c-4103-b157-9c3f878d3fac"
      },
      "source": [
        "model = tf.keras.models.Sequential([\n",
        "    tf.keras.layers.Conv2D(32, (3,3), activation='relu', input_shape=train_generator.image_shape),\n",
        "    tf.keras.layers.MaxPooling2D(2, 2),\n",
        "    tf.keras.layers.Dropout(0.3),\n",
        "\n",
        "    tf.keras.layers.Conv2D(64, (3,3), activation='relu'),\n",
        "    tf.keras.layers.MaxPooling2D(2,2),\n",
        "    tf.keras.layers.Dropout(0.2),\n",
        "\n",
        "    tf.keras.layers.Conv2D(126, (3,3), activation='relu'),\n",
        "    tf.keras.layers.MaxPooling2D(2,2),\n",
        "    tf.keras.layers.Dropout(0.15),\n",
        "\n",
        "    tf.keras.layers.Flatten(),\n",
        "\n",
        "    tf.keras.layers.Dense(32, activation='relu'),\n",
        "    tf.keras.layers.Dropout(0.15),\n",
        "\n",
        "    tf.keras.layers.Dense(64, activation='relu'),\n",
        "    tf.keras.layers.Dropout(0.1),\n",
        "\n",
        "    tf.keras.layers.Dense(2, activation='softmax')\n",
        "\n",
        "    ################################   \n",
        "\n",
        "    # tf.keras.layers.Conv2D(32, (3,3), activation='relu', input_shape=train_generator.image_shape),\n",
        "    # tf.keras.layers.MaxPooling2D(2, 2),\n",
        "\n",
        "    # tf.keras.layers.Conv2D(64, (3,3), activation='relu'),\n",
        "    # tf.keras.layers.MaxPooling2D(2,2),\n",
        "\n",
        "    # tf.keras.layers.Conv2D(128, (3,3), activation='relu'),\n",
        "    # tf.keras.layers.MaxPooling2D(2,2),\n",
        "\n",
        "    # tf.keras.layers.Conv2D(128, (3,3), activation='relu'),\n",
        "    # tf.keras.layers.MaxPooling2D(2,2),\n",
        "\n",
        "    # tf.keras.layers.Flatten(),\n",
        "    # tf.keras.layers.Dropout(0.2),\n",
        "    \n",
        "    # tf.keras.layers.Dense(512, activation='relu'),\n",
        "    # tf.keras.layers.Dense(2, activation='softmax')\n",
        "])\n",
        "model.summary()\n"
      ],
      "execution_count": 45,
      "outputs": [
        {
          "output_type": "stream",
          "text": [
            "Model: \"sequential_2\"\n",
            "_________________________________________________________________\n",
            "Layer (type)                 Output Shape              Param #   \n",
            "=================================================================\n",
            "conv2d_6 (Conv2D)            (None, 148, 198, 32)      896       \n",
            "_________________________________________________________________\n",
            "max_pooling2d_6 (MaxPooling2 (None, 74, 99, 32)        0         \n",
            "_________________________________________________________________\n",
            "dropout_10 (Dropout)         (None, 74, 99, 32)        0         \n",
            "_________________________________________________________________\n",
            "conv2d_7 (Conv2D)            (None, 72, 97, 64)        18496     \n",
            "_________________________________________________________________\n",
            "max_pooling2d_7 (MaxPooling2 (None, 36, 48, 64)        0         \n",
            "_________________________________________________________________\n",
            "dropout_11 (Dropout)         (None, 36, 48, 64)        0         \n",
            "_________________________________________________________________\n",
            "conv2d_8 (Conv2D)            (None, 34, 46, 126)       72702     \n",
            "_________________________________________________________________\n",
            "max_pooling2d_8 (MaxPooling2 (None, 17, 23, 126)       0         \n",
            "_________________________________________________________________\n",
            "dropout_12 (Dropout)         (None, 17, 23, 126)       0         \n",
            "_________________________________________________________________\n",
            "flatten_2 (Flatten)          (None, 49266)             0         \n",
            "_________________________________________________________________\n",
            "dense_6 (Dense)              (None, 32)                1576544   \n",
            "_________________________________________________________________\n",
            "dropout_13 (Dropout)         (None, 32)                0         \n",
            "_________________________________________________________________\n",
            "dense_7 (Dense)              (None, 64)                2112      \n",
            "_________________________________________________________________\n",
            "dropout_14 (Dropout)         (None, 64)                0         \n",
            "_________________________________________________________________\n",
            "dense_8 (Dense)              (None, 2)                 130       \n",
            "=================================================================\n",
            "Total params: 1,670,880\n",
            "Trainable params: 1,670,880\n",
            "Non-trainable params: 0\n",
            "_________________________________________________________________\n"
          ],
          "name": "stdout"
        }
      ]
    },
    {
      "cell_type": "code",
      "metadata": {
        "id": "NVBY8KrSFILR",
        "colab_type": "code",
        "colab": {}
      },
      "source": [
        "model.compile(loss='categorical_crossentropy',\n",
        "              optimizer=tf.optimizers.Adam(),\n",
        "              metrics=['accuracy'])"
      ],
      "execution_count": 46,
      "outputs": []
    },
    {
      "cell_type": "markdown",
      "metadata": {
        "id": "FfdzboHiBrgn",
        "colab_type": "text"
      },
      "source": [
        "# **CALLBACKS**"
      ]
    },
    {
      "cell_type": "markdown",
      "metadata": {
        "id": "U6jnaoG3A5mv",
        "colab_type": "text"
      },
      "source": [
        "**Callback 1**"
      ]
    },
    {
      "cell_type": "code",
      "metadata": {
        "id": "AcP3E4g5-80i",
        "colab_type": "code",
        "colab": {}
      },
      "source": [
        "class myCallback1(tf.keras.callbacks.Callback):\n",
        "  def on_epoch_end(self, epoch, logs={}):\n",
        "    if(logs.get('accuracy')>0.8):\n",
        "      if(logs.get('val_accuracy')>0.8):\n",
        "        print(\"\\nAkurasi telah mencapai >80%!\")\n",
        "      self.model.stop_training = True\n",
        "callbacks1 = myCallback1()"
      ],
      "execution_count": 63,
      "outputs": []
    },
    {
      "cell_type": "markdown",
      "metadata": {
        "id": "KAV84aefA8GU",
        "colab_type": "text"
      },
      "source": [
        "**Callback 2**"
      ]
    },
    {
      "cell_type": "code",
      "metadata": {
        "id": "Ggk22Ug3AjXd",
        "colab_type": "code",
        "colab": {}
      },
      "source": [
        "class myCallback2(tf.keras.callbacks.Callback):\n",
        "  def on_epoch_end(self, epoch, logs={}):\n",
        "    if(logs.get('accuracy')>0.85):\n",
        "      if(logs.get('val_accuracy')>0.85):\n",
        "        print(\"\\nAkurasi telah mencapai >85%!\")\n",
        "      self.model.stop_training = True\n",
        "callbacks2 = myCallback2()"
      ],
      "execution_count": 48,
      "outputs": []
    },
    {
      "cell_type": "markdown",
      "metadata": {
        "id": "VRP6Z2g3Alpz",
        "colab_type": "text"
      },
      "source": [
        "# **TRAINING 1**"
      ]
    },
    {
      "cell_type": "code",
      "metadata": {
        "id": "Mq9CNJ4GFIJF",
        "colab_type": "code",
        "colab": {
          "base_uri": "https://localhost:8080/",
          "height": 116
        },
        "outputId": "52a3a6bf-c69a-45ea-c293-8cd2e2bdcdd3"
      },
      "source": [
        "history = model.fit(\n",
        "      train_generator,\n",
        "      steps_per_epoch=100,  \n",
        "      epochs=150,\n",
        "      validation_data=val_generator, \n",
        "      validation_steps=5,  \n",
        "      verbose=1,\n",
        "      callbacks = [callbacks1])"
      ],
      "execution_count": 64,
      "outputs": [
        {
          "output_type": "stream",
          "text": [
            "Epoch 1/150\n",
            "100/100 [==============================] - 32s 315ms/step - loss: 0.4527 - accuracy: 0.7903 - val_loss: 0.5726 - val_accuracy: 0.7250\n",
            "Epoch 2/150\n",
            "100/100 [==============================] - ETA: 0s - loss: 0.4331 - accuracy: 0.8025\n",
            "Akurasi telah mencapai >80%!\n",
            "100/100 [==============================] - 31s 311ms/step - loss: 0.4331 - accuracy: 0.8025 - val_loss: 0.3886 - val_accuracy: 0.8125\n"
          ],
          "name": "stdout"
        }
      ]
    },
    {
      "cell_type": "code",
      "metadata": {
        "id": "PJ1RirTfMZZL",
        "colab_type": "code",
        "colab": {
          "base_uri": "https://localhost:8080/",
          "height": 640
        },
        "outputId": "450aacd8-691a-498e-fa0a-fa249213cc0e"
      },
      "source": [
        "val_acc = history.history['val_accuracy']\n",
        "train_acc = history.history['accuracy']\n",
        "loss = history.history['loss']\n",
        "val_loss = history.history['val_loss']\n",
        "print('last accuration of validation test : ', val_acc[-1])\n",
        "print('last accuration of train test      : ', train_acc[-1])\n",
        "print('last loss of validation loss       : ', val_loss[-1])\n",
        "print('last loss of train loss            : ', loss[-1])\n",
        "\n",
        "\n",
        "plt.plot(history.history['accuracy'])\n",
        "plt.plot(history.history['val_accuracy'])\n",
        "plt.title('model accuracy')\n",
        "plt.ylabel('accuracy')\n",
        "plt.xlabel('epoch')\n",
        "plt.legend(['train', 'validation'], loc='lower right')\n",
        "plt.show()\n",
        "\n",
        "\n",
        "plt.plot(history.history['loss'])\n",
        "plt.plot(history.history['val_loss'])\n",
        "plt.title('model loss')\n",
        "plt.ylabel('loss')\n",
        "plt.xlabel('epoch')\n",
        "plt.legend(['train', 'validation'], loc='upper left')\n",
        "plt.show()"
      ],
      "execution_count": 65,
      "outputs": [
        {
          "output_type": "stream",
          "text": [
            "last accuration of validation test :  0.8125\n",
            "last accuration of train test      :  0.8025000095367432\n",
            "last loss of validation loss       :  0.38859134912490845\n",
            "last loss of train loss            :  0.43308016657829285\n"
          ],
          "name": "stdout"
        },
        {
          "output_type": "display_data",
          "data": {
            "image/png": "[encoded data removed]",
            "text/plain": [
              "<Figure size 432x288 with 1 Axes>"
            ]
          },
          "metadata": {
            "tags": [],
            "needs_background": "light"
          }
        },
        {
          "output_type": "display_data",
          "data": {
            "image/png": "[encoded data removed]",
            "text/plain": [
              "<Figure size 432x288 with 1 Axes>"
            ]
          },
          "metadata": {
            "tags": [],
            "needs_background": "light"
          }
        }
      ]
    },
    {
      "cell_type": "markdown",
      "metadata": {
        "id": "FGbRqyM4BKlL",
        "colab_type": "text"
      },
      "source": [
        "# **TF-Lite**"
      ]
    },
    {
      "cell_type": "code",
      "metadata": {
        "id": "M54Pqrsm-Hai",
        "colab_type": "code",
        "colab": {
          "base_uri": "https://localhost:8080/",
          "height": 50
        },
        "outputId": "1c1c600a-4b6b-404c-f63a-0b41a9aa7fc2"
      },
      "source": [
        "# Konversi model.\n",
        "converter = tf.lite.TFLiteConverter.from_keras_model(model)\n",
        "tflite_model = converter.convert()"
      ],
      "execution_count": 66,
      "outputs": [
        {
          "output_type": "stream",
          "text": [
            "INFO:tensorflow:Assets written to: /tmp/tmplov5_vr0/assets\n"
          ],
          "name": "stdout"
        },
        {
          "output_type": "stream",
          "text": [
            "INFO:tensorflow:Assets written to: /tmp/tmplov5_vr0/assets\n"
          ],
          "name": "stderr"
        }
      ]
    },
    {
      "cell_type": "code",
      "metadata": {
        "id": "z_tHZoqQ-WtC",
        "colab_type": "code",
        "colab": {}
      },
      "source": [
        "with tf.io.gfile.GFile('model.tflite', 'wb') as f:\n",
        "  f.write(tflite_model)"
      ],
      "execution_count": 67,
      "outputs": []
    }
  ]
}