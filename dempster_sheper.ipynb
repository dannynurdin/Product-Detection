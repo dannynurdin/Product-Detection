{
  "nbformat": 4,
  "nbformat_minor": 0,
  "metadata": {
    "colab": {
      "name": "dempster sheper.ipynb",
      "provenance": [],
      "collapsed_sections": []
    },
    "kernelspec": {
      "name": "python3",
      "display_name": "Python 3"
    }
  },
  "cells": [
    {
      "cell_type": "code",
      "metadata": {
        "id": "rQc4IFfXKaBO"
      },
      "source": [
        "import pandas as pd"
      ],
      "execution_count": 205,
      "outputs": []
    },
    {
      "cell_type": "code",
      "metadata": {
        "id": "ynJg-3CTK2Yn"
      },
      "source": [
        "dataset = '/content/drive/MyDrive/rule penyakit.csv'"
      ],
      "execution_count": 206,
      "outputs": []
    },
    {
      "cell_type": "code",
      "metadata": {
        "colab": {
          "base_uri": "https://localhost:8080/",
          "height": 204
        },
        "id": "X5Thamw2K58O",
        "outputId": "556e7614-1db2-4b2c-cb56-ddb7fc009264"
      },
      "source": [
        "df = pd.read_csv(dataset)\r\n",
        "df = df.fillna(0)\r\n",
        "df = df.rename(columns={'value':'bel','G01':'c', 'G02':'i', 'G03':'f'})\r\n",
        "df.head()"
      ],
      "execution_count": 207,
      "outputs": [
        {
          "output_type": "execute_result",
          "data": {
            "text/html": [
              "<div>\n",
              "<style scoped>\n",
              "    .dataframe tbody tr th:only-of-type {\n",
              "        vertical-align: middle;\n",
              "    }\n",
              "\n",
              "    .dataframe tbody tr th {\n",
              "        vertical-align: top;\n",
              "    }\n",
              "\n",
              "    .dataframe thead th {\n",
              "        text-align: right;\n",
              "    }\n",
              "</style>\n",
              "<table border=\"1\" class=\"dataframe\">\n",
              "  <thead>\n",
              "    <tr style=\"text-align: right;\">\n",
              "      <th></th>\n",
              "      <th>code</th>\n",
              "      <th>c</th>\n",
              "      <th>i</th>\n",
              "      <th>f</th>\n",
              "      <th>bel</th>\n",
              "    </tr>\n",
              "  </thead>\n",
              "  <tbody>\n",
              "    <tr>\n",
              "      <th>0</th>\n",
              "      <td>G1</td>\n",
              "      <td>1.0</td>\n",
              "      <td>1.0</td>\n",
              "      <td>0.0</td>\n",
              "      <td>0.3</td>\n",
              "    </tr>\n",
              "    <tr>\n",
              "      <th>1</th>\n",
              "      <td>G2</td>\n",
              "      <td>1.0</td>\n",
              "      <td>1.0</td>\n",
              "      <td>1.0</td>\n",
              "      <td>0.4</td>\n",
              "    </tr>\n",
              "    <tr>\n",
              "      <th>2</th>\n",
              "      <td>G3</td>\n",
              "      <td>0.0</td>\n",
              "      <td>1.0</td>\n",
              "      <td>0.0</td>\n",
              "      <td>0.4</td>\n",
              "    </tr>\n",
              "    <tr>\n",
              "      <th>3</th>\n",
              "      <td>G4</td>\n",
              "      <td>1.0</td>\n",
              "      <td>0.0</td>\n",
              "      <td>0.0</td>\n",
              "      <td>0.5</td>\n",
              "    </tr>\n",
              "    <tr>\n",
              "      <th>4</th>\n",
              "      <td>G5</td>\n",
              "      <td>0.0</td>\n",
              "      <td>1.0</td>\n",
              "      <td>1.0</td>\n",
              "      <td>0.5</td>\n",
              "    </tr>\n",
              "  </tbody>\n",
              "</table>\n",
              "</div>"
            ],
            "text/plain": [
              "  code    c    i    f  bel\n",
              "0   G1  1.0  1.0  0.0  0.3\n",
              "1   G2  1.0  1.0  1.0  0.4\n",
              "2   G3  0.0  1.0  0.0  0.4\n",
              "3   G4  1.0  0.0  0.0  0.5\n",
              "4   G5  0.0  1.0  1.0  0.5"
            ]
          },
          "metadata": {
            "tags": []
          },
          "execution_count": 207
        }
      ]
    },
    {
      "cell_type": "code",
      "metadata": {
        "id": "6mXr-RjoLegG"
      },
      "source": [
        "df_dict = dict(\r\n",
        "    list(\r\n",
        "        df.groupby(df.index)\r\n",
        "\r\n",
        "    )\r\n",
        ")\r\n",
        "\r\n",
        "data = []\r\n",
        "for k, v in df_dict.items():               # k: name of index, v: is a df\r\n",
        "    check = v.columns[(v == 1).any()]\r\n",
        "    if len(check) > 0:\r\n",
        "        mylist = check.to_list()\r\n",
        "        mydata = ''.join(mylist)\r\n",
        "        data.append(mydata)"
      ],
      "execution_count": 208,
      "outputs": []
    },
    {
      "cell_type": "code",
      "metadata": {
        "colab": {
          "base_uri": "https://localhost:8080/",
          "height": 483
        },
        "id": "ANiGp3oYLmMG",
        "outputId": "6b748170-6fa2-47ea-e4fc-143f2ec6216e"
      },
      "source": [
        "\r\n",
        "df['pi'] = 1 - df['bel']\r\n",
        "df['m'] = data\r\n",
        "\r\n",
        "df"
      ],
      "execution_count": 209,
      "outputs": [
        {
          "output_type": "execute_result",
          "data": {
            "text/html": [
              "<div>\n",
              "<style scoped>\n",
              "    .dataframe tbody tr th:only-of-type {\n",
              "        vertical-align: middle;\n",
              "    }\n",
              "\n",
              "    .dataframe tbody tr th {\n",
              "        vertical-align: top;\n",
              "    }\n",
              "\n",
              "    .dataframe thead th {\n",
              "        text-align: right;\n",
              "    }\n",
              "</style>\n",
              "<table border=\"1\" class=\"dataframe\">\n",
              "  <thead>\n",
              "    <tr style=\"text-align: right;\">\n",
              "      <th></th>\n",
              "      <th>code</th>\n",
              "      <th>c</th>\n",
              "      <th>i</th>\n",
              "      <th>f</th>\n",
              "      <th>bel</th>\n",
              "      <th>pi</th>\n",
              "      <th>m</th>\n",
              "    </tr>\n",
              "  </thead>\n",
              "  <tbody>\n",
              "    <tr>\n",
              "      <th>0</th>\n",
              "      <td>G1</td>\n",
              "      <td>1.0</td>\n",
              "      <td>1.0</td>\n",
              "      <td>0.0</td>\n",
              "      <td>0.3</td>\n",
              "      <td>0.7</td>\n",
              "      <td>ci</td>\n",
              "    </tr>\n",
              "    <tr>\n",
              "      <th>1</th>\n",
              "      <td>G2</td>\n",
              "      <td>1.0</td>\n",
              "      <td>1.0</td>\n",
              "      <td>1.0</td>\n",
              "      <td>0.4</td>\n",
              "      <td>0.6</td>\n",
              "      <td>cif</td>\n",
              "    </tr>\n",
              "    <tr>\n",
              "      <th>2</th>\n",
              "      <td>G3</td>\n",
              "      <td>0.0</td>\n",
              "      <td>1.0</td>\n",
              "      <td>0.0</td>\n",
              "      <td>0.4</td>\n",
              "      <td>0.6</td>\n",
              "      <td>i</td>\n",
              "    </tr>\n",
              "    <tr>\n",
              "      <th>3</th>\n",
              "      <td>G4</td>\n",
              "      <td>1.0</td>\n",
              "      <td>0.0</td>\n",
              "      <td>0.0</td>\n",
              "      <td>0.5</td>\n",
              "      <td>0.5</td>\n",
              "      <td>c</td>\n",
              "    </tr>\n",
              "    <tr>\n",
              "      <th>4</th>\n",
              "      <td>G5</td>\n",
              "      <td>0.0</td>\n",
              "      <td>1.0</td>\n",
              "      <td>1.0</td>\n",
              "      <td>0.5</td>\n",
              "      <td>0.5</td>\n",
              "      <td>if</td>\n",
              "    </tr>\n",
              "    <tr>\n",
              "      <th>5</th>\n",
              "      <td>G6</td>\n",
              "      <td>0.0</td>\n",
              "      <td>1.0</td>\n",
              "      <td>0.0</td>\n",
              "      <td>0.2</td>\n",
              "      <td>0.8</td>\n",
              "      <td>i</td>\n",
              "    </tr>\n",
              "    <tr>\n",
              "      <th>6</th>\n",
              "      <td>G7</td>\n",
              "      <td>1.0</td>\n",
              "      <td>0.0</td>\n",
              "      <td>0.0</td>\n",
              "      <td>0.5</td>\n",
              "      <td>0.5</td>\n",
              "      <td>c</td>\n",
              "    </tr>\n",
              "    <tr>\n",
              "      <th>7</th>\n",
              "      <td>G8</td>\n",
              "      <td>1.0</td>\n",
              "      <td>0.0</td>\n",
              "      <td>0.0</td>\n",
              "      <td>0.2</td>\n",
              "      <td>0.8</td>\n",
              "      <td>c</td>\n",
              "    </tr>\n",
              "    <tr>\n",
              "      <th>8</th>\n",
              "      <td>G9</td>\n",
              "      <td>0.0</td>\n",
              "      <td>1.0</td>\n",
              "      <td>0.0</td>\n",
              "      <td>0.2</td>\n",
              "      <td>0.8</td>\n",
              "      <td>i</td>\n",
              "    </tr>\n",
              "    <tr>\n",
              "      <th>9</th>\n",
              "      <td>G10</td>\n",
              "      <td>1.0</td>\n",
              "      <td>0.0</td>\n",
              "      <td>0.0</td>\n",
              "      <td>0.5</td>\n",
              "      <td>0.5</td>\n",
              "      <td>c</td>\n",
              "    </tr>\n",
              "    <tr>\n",
              "      <th>10</th>\n",
              "      <td>G11</td>\n",
              "      <td>0.0</td>\n",
              "      <td>1.0</td>\n",
              "      <td>0.0</td>\n",
              "      <td>0.3</td>\n",
              "      <td>0.7</td>\n",
              "      <td>i</td>\n",
              "    </tr>\n",
              "    <tr>\n",
              "      <th>11</th>\n",
              "      <td>G12</td>\n",
              "      <td>0.0</td>\n",
              "      <td>0.0</td>\n",
              "      <td>1.0</td>\n",
              "      <td>0.4</td>\n",
              "      <td>0.6</td>\n",
              "      <td>f</td>\n",
              "    </tr>\n",
              "    <tr>\n",
              "      <th>12</th>\n",
              "      <td>G13</td>\n",
              "      <td>0.0</td>\n",
              "      <td>0.0</td>\n",
              "      <td>1.0</td>\n",
              "      <td>0.4</td>\n",
              "      <td>0.6</td>\n",
              "      <td>f</td>\n",
              "    </tr>\n",
              "    <tr>\n",
              "      <th>13</th>\n",
              "      <td>G14</td>\n",
              "      <td>0.0</td>\n",
              "      <td>0.0</td>\n",
              "      <td>1.0</td>\n",
              "      <td>0.2</td>\n",
              "      <td>0.8</td>\n",
              "      <td>f</td>\n",
              "    </tr>\n",
              "  </tbody>\n",
              "</table>\n",
              "</div>"
            ],
            "text/plain": [
              "   code    c    i    f  bel   pi    m\n",
              "0    G1  1.0  1.0  0.0  0.3  0.7   ci\n",
              "1    G2  1.0  1.0  1.0  0.4  0.6  cif\n",
              "2    G3  0.0  1.0  0.0  0.4  0.6    i\n",
              "3    G4  1.0  0.0  0.0  0.5  0.5    c\n",
              "4    G5  0.0  1.0  1.0  0.5  0.5   if\n",
              "5    G6  0.0  1.0  0.0  0.2  0.8    i\n",
              "6    G7  1.0  0.0  0.0  0.5  0.5    c\n",
              "7    G8  1.0  0.0  0.0  0.2  0.8    c\n",
              "8    G9  0.0  1.0  0.0  0.2  0.8    i\n",
              "9   G10  1.0  0.0  0.0  0.5  0.5    c\n",
              "10  G11  0.0  1.0  0.0  0.3  0.7    i\n",
              "11  G12  0.0  0.0  1.0  0.4  0.6    f\n",
              "12  G13  0.0  0.0  1.0  0.4  0.6    f\n",
              "13  G14  0.0  0.0  1.0  0.2  0.8    f"
            ]
          },
          "metadata": {
            "tags": []
          },
          "execution_count": 209
        }
      ]
    },
    {
      "cell_type": "code",
      "metadata": {
        "id": "xMAFDlC_MXRu"
      },
      "source": [
        "df.drop(['c', 'i', 'f'], axis=1, inplace=True)"
      ],
      "execution_count": 210,
      "outputs": []
    },
    {
      "cell_type": "code",
      "metadata": {
        "colab": {
          "base_uri": "https://localhost:8080/",
          "height": 514
        },
        "id": "KAogrsgcMegg",
        "outputId": "eced3f76-9b83-48f0-ff9e-5cd882d242c6"
      },
      "source": [
        "df = df.set_index('code')\r\n",
        "df"
      ],
      "execution_count": 211,
      "outputs": [
        {
          "output_type": "execute_result",
          "data": {
            "text/html": [
              "<div>\n",
              "<style scoped>\n",
              "    .dataframe tbody tr th:only-of-type {\n",
              "        vertical-align: middle;\n",
              "    }\n",
              "\n",
              "    .dataframe tbody tr th {\n",
              "        vertical-align: top;\n",
              "    }\n",
              "\n",
              "    .dataframe thead th {\n",
              "        text-align: right;\n",
              "    }\n",
              "</style>\n",
              "<table border=\"1\" class=\"dataframe\">\n",
              "  <thead>\n",
              "    <tr style=\"text-align: right;\">\n",
              "      <th></th>\n",
              "      <th>bel</th>\n",
              "      <th>pi</th>\n",
              "      <th>m</th>\n",
              "    </tr>\n",
              "    <tr>\n",
              "      <th>code</th>\n",
              "      <th></th>\n",
              "      <th></th>\n",
              "      <th></th>\n",
              "    </tr>\n",
              "  </thead>\n",
              "  <tbody>\n",
              "    <tr>\n",
              "      <th>G1</th>\n",
              "      <td>0.3</td>\n",
              "      <td>0.7</td>\n",
              "      <td>ci</td>\n",
              "    </tr>\n",
              "    <tr>\n",
              "      <th>G2</th>\n",
              "      <td>0.4</td>\n",
              "      <td>0.6</td>\n",
              "      <td>cif</td>\n",
              "    </tr>\n",
              "    <tr>\n",
              "      <th>G3</th>\n",
              "      <td>0.4</td>\n",
              "      <td>0.6</td>\n",
              "      <td>i</td>\n",
              "    </tr>\n",
              "    <tr>\n",
              "      <th>G4</th>\n",
              "      <td>0.5</td>\n",
              "      <td>0.5</td>\n",
              "      <td>c</td>\n",
              "    </tr>\n",
              "    <tr>\n",
              "      <th>G5</th>\n",
              "      <td>0.5</td>\n",
              "      <td>0.5</td>\n",
              "      <td>if</td>\n",
              "    </tr>\n",
              "    <tr>\n",
              "      <th>G6</th>\n",
              "      <td>0.2</td>\n",
              "      <td>0.8</td>\n",
              "      <td>i</td>\n",
              "    </tr>\n",
              "    <tr>\n",
              "      <th>G7</th>\n",
              "      <td>0.5</td>\n",
              "      <td>0.5</td>\n",
              "      <td>c</td>\n",
              "    </tr>\n",
              "    <tr>\n",
              "      <th>G8</th>\n",
              "      <td>0.2</td>\n",
              "      <td>0.8</td>\n",
              "      <td>c</td>\n",
              "    </tr>\n",
              "    <tr>\n",
              "      <th>G9</th>\n",
              "      <td>0.2</td>\n",
              "      <td>0.8</td>\n",
              "      <td>i</td>\n",
              "    </tr>\n",
              "    <tr>\n",
              "      <th>G10</th>\n",
              "      <td>0.5</td>\n",
              "      <td>0.5</td>\n",
              "      <td>c</td>\n",
              "    </tr>\n",
              "    <tr>\n",
              "      <th>G11</th>\n",
              "      <td>0.3</td>\n",
              "      <td>0.7</td>\n",
              "      <td>i</td>\n",
              "    </tr>\n",
              "    <tr>\n",
              "      <th>G12</th>\n",
              "      <td>0.4</td>\n",
              "      <td>0.6</td>\n",
              "      <td>f</td>\n",
              "    </tr>\n",
              "    <tr>\n",
              "      <th>G13</th>\n",
              "      <td>0.4</td>\n",
              "      <td>0.6</td>\n",
              "      <td>f</td>\n",
              "    </tr>\n",
              "    <tr>\n",
              "      <th>G14</th>\n",
              "      <td>0.2</td>\n",
              "      <td>0.8</td>\n",
              "      <td>f</td>\n",
              "    </tr>\n",
              "  </tbody>\n",
              "</table>\n",
              "</div>"
            ],
            "text/plain": [
              "      bel   pi    m\n",
              "code               \n",
              "G1    0.3  0.7   ci\n",
              "G2    0.4  0.6  cif\n",
              "G3    0.4  0.6    i\n",
              "G4    0.5  0.5    c\n",
              "G5    0.5  0.5   if\n",
              "G6    0.2  0.8    i\n",
              "G7    0.5  0.5    c\n",
              "G8    0.2  0.8    c\n",
              "G9    0.2  0.8    i\n",
              "G10   0.5  0.5    c\n",
              "G11   0.3  0.7    i\n",
              "G12   0.4  0.6    f\n",
              "G13   0.4  0.6    f\n",
              "G14   0.2  0.8    f"
            ]
          },
          "metadata": {
            "tags": []
          },
          "execution_count": 211
        }
      ]
    },
    {
      "cell_type": "code",
      "metadata": {
        "id": "dbAWPVeNMwQH"
      },
      "source": [
        ""
      ],
      "execution_count": 211,
      "outputs": []
    },
    {
      "cell_type": "code",
      "metadata": {
        "id": "vQB2YnVWMqqW"
      },
      "source": [
        "def get_value(code):\r\n",
        "  result = df.loc[[code]]\r\n",
        "\r\n",
        "  bel = result['bel'][0]\r\n",
        "  pi = result['pi'][0]\r\n",
        "  m = result['m'][0]\r\n",
        "  tetta = 'cif-1'\r\n",
        "\r\n",
        "  value_dict = dict({m:bel,tetta:pi})\r\n",
        "\r\n",
        "  return value_dict"
      ],
      "execution_count": 212,
      "outputs": []
    },
    {
      "cell_type": "code",
      "metadata": {
        "colab": {
          "base_uri": "https://localhost:8080/"
        },
        "id": "nlJA78NeOfH_",
        "outputId": "a30e9eea-04da-4e99-9aec-968825e45ac6"
      },
      "source": [
        "data = get_value('G6')\r\n",
        "data"
      ],
      "execution_count": 213,
      "outputs": [
        {
          "output_type": "execute_result",
          "data": {
            "text/plain": [
              "{'cif-1': 0.8, 'i': 0.2}"
            ]
          },
          "metadata": {
            "tags": []
          },
          "execution_count": 213
        }
      ]
    },
    {
      "cell_type": "code",
      "metadata": {
        "colab": {
          "base_uri": "https://localhost:8080/"
        },
        "id": "V4Q8zl7af4CX",
        "outputId": "617efc4c-2a12-41c7-bacc-f5a72c1c5acc"
      },
      "source": [
        "print(get_value('G1'))"
      ],
      "execution_count": 214,
      "outputs": [
        {
          "output_type": "stream",
          "text": [
            "{'ci': 0.3, 'cif-1': 0.7}\n"
          ],
          "name": "stdout"
        }
      ]
    },
    {
      "cell_type": "code",
      "metadata": {
        "id": "aXtdS5gtRh55"
      },
      "source": [
        "def DempsterRule(m1,m2):\r\n",
        "    ## extract the frame of discernment      \r\n",
        "    sets=set(m1.keys()).union(set(m2.keys()))\r\n",
        "    result=dict.fromkeys(sets,0)\r\n",
        "    ## Combination process\r\n",
        "    for i in m1.keys():\r\n",
        "        for j in m2.keys():\r\n",
        "            if set(str(i)).intersection(set(str(j))) == set(str(i)):\r\n",
        "                result[i]+=m1[i]*m2[j]\r\n",
        "            elif set(str(i)).intersection(set(str(j))) == set(str(j)):\r\n",
        "                result[j]+=m1[i]*m2[j]\r\n",
        "                \r\n",
        "                 \r\n",
        "    ## normalize the results\r\n",
        "    f= sum(list(result.values()))\r\n",
        "    for i in result.keys():\r\n",
        "        result[i] /=f\r\n",
        "    result = result\r\n",
        "    return result"
      ],
      "execution_count": 215,
      "outputs": []
    },
    {
      "cell_type": "code",
      "metadata": {
        "id": "AMxuM8zBdhSv"
      },
      "source": [
        "symptoms = []"
      ],
      "execution_count": 216,
      "outputs": []
    },
    {
      "cell_type": "code",
      "metadata": {
        "id": "m2hvPKfedqLu"
      },
      "source": [
        "def predict(symptoms):\r\n",
        "  for n in symptoms:\r\n",
        "    m1 = {'cif-1':1.0}\r\n",
        "    m2 = get_value(n)\r\n",
        "    result = DempsterRule(m1,m2)\r\n",
        "    m1 = result\r\n",
        "  \r\n",
        "  return m1"
      ],
      "execution_count": 217,
      "outputs": []
    },
    {
      "cell_type": "code",
      "metadata": {
        "colab": {
          "base_uri": "https://localhost:8080/"
        },
        "id": "_2kRw4WNfNL6",
        "outputId": "064a2a12-85a9-49e5-fa9b-9c4c9390ae8f"
      },
      "source": [
        "symptoms = ['G10','G7']\r\n",
        "hasil = predict(symptoms)\r\n",
        "result = max(hasil, key=hasil.get)\r\n",
        "prob = hasil[result]*100\r\n",
        "print('hasil diagnosis --> {} dengan akurasi {}%'.format(result,prob))"
      ],
      "execution_count": 224,
      "outputs": [
        {
          "output_type": "stream",
          "text": [
            "hasil diagnosis --> c dengan akurasi 50.0%\n"
          ],
          "name": "stdout"
        }
      ]
    },
    {
      "cell_type": "code",
      "metadata": {
        "id": "Jne_P-vliRMH"
      },
      "source": [
        "fdf = pd.read_csv('/content/test sistem pakar yt.csv')\r\n",
        "fdf = fdf.set_index('code')\r\n",
        "fdf"
      ],
      "execution_count": null,
      "outputs": []
    },
    {
      "cell_type": "code",
      "metadata": {
        "id": "kbWPfdGai56X"
      },
      "source": [
        "symptoms = ['G1','G3','G4']\r\n",
        "hasil = predict(symptoms)\r\n",
        "result = max(hasil, key=hasil.get)\r\n",
        "print('hasil diagnosis --> {} dengan akurasi {}'.format(result,hasil[result]))"
      ],
      "execution_count": null,
      "outputs": []
    }
  ]
}